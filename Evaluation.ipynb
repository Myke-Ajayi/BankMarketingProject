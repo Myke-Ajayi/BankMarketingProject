{
 "cells": [
  {
   "cell_type": "markdown",
   "metadata": {},
   "source": [
    "# Ox Bank Marketing Campaign "
   ]
  },
  {
   "cell_type": "code",
   "execution_count": 29,
   "metadata": {},
   "outputs": [],
   "source": [
    "def evaluate(estimator, X_tr, X_h_te, y_tr, y_h_te):\n",
    "    '''\n",
    "    This is to evalute the best models and outputs are the metrics and matrix\n",
    "    estimator: model,\n",
    "    X_tr: X_train,\n",
    "    X_h_te: X_hold_test,\n",
    "    y_tr: y_training set,\n",
    "    y_h_te: y_hold_test\n",
    "    '''\n",
    "#    predicts the models\n",
    "    tr_preds = estimator.predict(X_tr)\n",
    "    te_h_preds = estimator.predict(X_h_te)\n",
    "    \n",
    "    print(\"Training Scores:\")\n",
    "    print(f\"Train Accuracy: {accuracy_score(y_tr, tr_preds)}\")\n",
    "    print(f\"Train precision: {precision_score(y_tr, tr_preds)}\")\n",
    "    print(f\"Train recall: {recall_score(y_tr, tr_preds)}\")\n",
    "    print(\"*\" * 10)\n",
    "    print(\"Hold Out Scores:\")\n",
    "    print(f\"Test Accuracy: {accuracy_score(y_h_te, te_h_preds)}\")\n",
    "    print(f\"Test precision: {precision_score(y_h_te, te_h_preds)}\")\n",
    "    print(f\"Test recall: {recall_score(y_h_te, te_h_preds)}\")\n",
    "    \n",
    "#     creates a report of all the scores in test set\n",
    "    print(classification_report(y_h_te, te_h_preds))\n",
    "    \n",
    "    \n",
    "    # Plot confusion matrix for test set\n",
    "    plot_confusion_matrix(estimator, X_h_te, y_h_te)"
   ]
  },
  {
   "cell_type": "markdown",
   "metadata": {},
   "source": [
    "## Overview\n",
    "\n",
    "This project focuses on OX bank that conducted a marketing campaign by phone calls, to increase the number of term deposits. A term deposit is a fixed term investment at a bank. Term deposits usually have shot term maturities ranging from one month to a few years. They also require varying levels of minimum deposits. The marketing divison havs asked the data science divison of OX bank to analyze their data from the previous campaign. The data science team decides to build a few machine learning models to give the marketing team some key predictions for the next campaign. \n"
   ]
  },
  {
   "cell_type": "markdown",
   "metadata": {},
   "source": [
    "\n",
    "\n",
    "\n",
    "\n",
    "## Business Problem\n",
    "\n",
    "We are in the data science division of bank and are working with the marketing team to see how they can conduct the campaign to get better results. To do this we performed various machine learning models to try to predict what features the marketing team should focus the campaign on. The stakeholders of this business problem are the bank executives and members of the marketing team. Marketing campaigns can be costly and it is important to have solid data and predictions before hand to plan it correctly. A bank needs customers and a good marketing campaign can directly correlate to raising the number of clients doing business with OX. Even if does not directly lead to a client signing deposit it can help get leads for the future.\n",
    "\n",
    "The deliverable for this project would be the analysis of the data through the use of a machine learning model. We are not delivering the model as the stakeholders are more focoused on results so they can translate it into a campaign. That being stated we will keep our models transparent as we are dealing with senstive banking data. \n",
    "\n",
    "It will be important to avoid false postives in our model. This means that we will predict the customer will sign a deposit when in reality they will not. This woudl be much worse for OX bank as a false negative would mean the client would still sign a deposit with the bank which is the overall goal of the campaign. The metric we are focused on optimizing would be precision. Precision is the ratio of correctly predicted positive observations to the total predicted positive observations. A higher precision means there is less chance of false positives which we want to avoid. \n",
    "\n",
    "\n",
    "\n",
    "\n"
   ]
  },
  {
   "cell_type": "markdown",
   "metadata": {},
   "source": [
    "## Data Understanding\n"
   ]
  },
  {
   "cell_type": "markdown",
   "metadata": {},
   "source": [
    "- The data is from the UCI Bank marketing datasets. It represents the information of the client called and the information of the campaign\n",
    "- The target variable is column y - has the client subscribed a term deposit?\n",
    "- We intend to use all the variables \n",
    "-  The was data was complete and had no missing values for each column. It contains categorical variables and numeric. "
   ]
  },
  {
   "cell_type": "markdown",
   "metadata": {},
   "source": [
    "## Data Preparation"
   ]
  },
  {
   "cell_type": "markdown",
   "metadata": {},
   "source": [
    "The indepth explanation of the data analysis is inside the notebook file, named (Data_analysis\n",
    "and feature_engineering). \n",
    "- Through the data analysis, we understood the avarage age of the clients and how much they have in their accounts.\n",
    "- The columns dropped, was the:\n",
    "    * pdays (i.e number of days  passed by after the client was last contacted)\n",
    "    * Default (huge proportion of no client has credit in default)\n",
    "    * Previous (just focusing on this datasets not from other campaign)\n",
    "    \n",
    "- The pipeline created was used for all the models"
   ]
  },
  {
   "cell_type": "markdown",
   "metadata": {},
   "source": [
    "## Modeling\n",
    "\n",
    "- After the analysis, created a new csv file for the edited data.\n",
    "- Using different parameters and taking the best ones to test on the holdout set for good precision\n",
    "- The random forest was most appropiate because it has the highest number or accuracy and precision."
   ]
  },
  {
   "cell_type": "markdown",
   "metadata": {},
   "source": [
    "## Evaluation\n",
    "\n",
    "The evaluation of each model should accompany the creation of each model, and you should be sure to evaluate your models consistently."
   ]
  },
  {
   "cell_type": "markdown",
   "metadata": {},
   "source": [
    "- The model was interpreted by using the precision score \n",
    "- how many times the model predicts the client is going to make a deposit actually makes a deposit"
   ]
  },
  {
   "cell_type": "markdown",
   "metadata": {},
   "source": [
    "- We need to consider that the data is imbalanced which should be, because not all of our client will make a term deposit "
   ]
  },
  {
   "cell_type": "code",
   "execution_count": null,
   "metadata": {},
   "outputs": [],
   "source": []
  },
  {
   "cell_type": "code",
   "execution_count": 2,
   "metadata": {},
   "outputs": [],
   "source": [
    "import pandas as pd\n",
    "import matplotlib.pyplot as plt\n",
    "import seaborn as sns\n",
    "import numpy as np\n",
    "from sklearn.model_selection import train_test_split, cross_validate, GridSearchCV\n",
    "from sklearn.preprocessing import OneHotEncoder, StandardScaler\n",
    "from sklearn.metrics import confusion_matrix, accuracy_score, precision_score, recall_score, f1_score, classification_report\n",
    "from sklearn.pipeline import Pipeline\n",
    "from sklearn.compose import ColumnTransformer\n",
    "from sklearn.linear_model import LogisticRegression\n",
    "from sklearn.metrics import accuracy_score, precision_score, recall_score, f1_score\n",
    "from sklearn.metrics import roc_auc_score, plot_confusion_matrix, plot_roc_curve"
   ]
  },
  {
   "cell_type": "markdown",
   "metadata": {},
   "source": [
    "### Baseline Understanding\n",
    "\n",
    "- What does a baseline, model-less prediction look like?"
   ]
  },
  {
   "cell_type": "code",
   "execution_count": 7,
   "metadata": {},
   "outputs": [
    {
     "name": "stdout",
     "output_type": "stream",
     "text": [
      "bank-full.csv  bank-names.txt bank.csv\r\n"
     ]
    }
   ],
   "source": [
    "!ls data"
   ]
  },
  {
   "cell_type": "code",
   "execution_count": 16,
   "metadata": {
    "scrolled": true
   },
   "outputs": [],
   "source": [
    "bank_df = pd.read_csv('data/bank-full.csv', sep=';')"
   ]
  },
  {
   "cell_type": "code",
   "execution_count": 17,
   "metadata": {
    "scrolled": true
   },
   "outputs": [
    {
     "data": {
      "text/plain": [
       "no     0.883015\n",
       "yes    0.116985\n",
       "Name: y, dtype: float64"
      ]
     },
     "execution_count": 17,
     "metadata": {},
     "output_type": "execute_result"
    }
   ],
   "source": [
    "bank_df['y'].value_counts(normalize=True)"
   ]
  },
  {
   "cell_type": "markdown",
   "metadata": {},
   "source": [
    "### First $&(@# Model\n",
    "\n",
    "Before going too far down the data preparation rabbit hole, be sure to check your work against a first 'substandard' model! What is the easiest way for you to find out how hard your problem is?"
   ]
  },
  {
   "cell_type": "code",
   "execution_count": 21,
   "metadata": {
    "scrolled": true
   },
   "outputs": [
    {
     "name": "stdout",
     "output_type": "stream",
     "text": [
      "KNN_Models.ipynb\r\n",
      "Modelling.ipynb\r\n",
      "Models.ipynb\r\n",
      "Project3Template.ipynb\r\n",
      "bank Analysis and feature engineering.ipynb\r\n",
      "eddited_bank.csv\r\n"
     ]
    }
   ],
   "source": [
    "!ls Notebook/Michael"
   ]
  },
  {
   "cell_type": "code",
   "execution_count": 25,
   "metadata": {},
   "outputs": [
    {
     "name": "stderr",
     "output_type": "stream",
     "text": [
      "/Users/mac/opt/anaconda3/envs/learn-env/lib/python3.8/site-packages/sklearn/linear_model/_logistic.py:762: ConvergenceWarning: lbfgs failed to converge (status=1):\n",
      "STOP: TOTAL NO. of ITERATIONS REACHED LIMIT.\n",
      "\n",
      "Increase the number of iterations (max_iter) or scale the data as shown in:\n",
      "    https://scikit-learn.org/stable/modules/preprocessing.html\n",
      "Please also refer to the documentation for alternative solver options:\n",
      "    https://scikit-learn.org/stable/modules/linear_model.html#logistic-regression\n",
      "  n_iter_i = _check_optimize_result(\n",
      "/Users/mac/opt/anaconda3/envs/learn-env/lib/python3.8/site-packages/sklearn/linear_model/_logistic.py:762: ConvergenceWarning: lbfgs failed to converge (status=1):\n",
      "STOP: TOTAL NO. of ITERATIONS REACHED LIMIT.\n",
      "\n",
      "Increase the number of iterations (max_iter) or scale the data as shown in:\n",
      "    https://scikit-learn.org/stable/modules/preprocessing.html\n",
      "Please also refer to the documentation for alternative solver options:\n",
      "    https://scikit-learn.org/stable/modules/linear_model.html#logistic-regression\n",
      "  n_iter_i = _check_optimize_result(\n",
      "/Users/mac/opt/anaconda3/envs/learn-env/lib/python3.8/site-packages/sklearn/linear_model/_logistic.py:762: ConvergenceWarning: lbfgs failed to converge (status=1):\n",
      "STOP: TOTAL NO. of ITERATIONS REACHED LIMIT.\n",
      "\n",
      "Increase the number of iterations (max_iter) or scale the data as shown in:\n",
      "    https://scikit-learn.org/stable/modules/preprocessing.html\n",
      "Please also refer to the documentation for alternative solver options:\n",
      "    https://scikit-learn.org/stable/modules/linear_model.html#logistic-regression\n",
      "  n_iter_i = _check_optimize_result(\n"
     ]
    },
    {
     "name": "stdout",
     "output_type": "stream",
     "text": [
      "[0.90224123 0.89943969 0.90224123 0.90045716 0.90311164 0.90399646]\n"
     ]
    }
   ],
   "source": [
    "edited_df = pd.read_csv('Notebook/Michael/eddited_bank.csv', sep=';')\n",
    "edited_df['y'] = edited_df['y'].replace(to_replace=['no', 'yes'], value=[0, 1])\n",
    "X = edited_df.drop('y', axis=1)\n",
    "y = edited_df['y']\n",
    "X_train, X_hold, y_train, y_hold = train_test_split(X, y, test_size=0.1, random_state=42)\n",
    "\n",
    "cat_col = []\n",
    "num_col = []\n",
    "\n",
    "for col in edited_df.columns:\n",
    "    if edited_df[col].dtype == 'object':\n",
    "        cat_col.append(col)\n",
    "    else:\n",
    "        if col != 'y':\n",
    "            num_col.append(col)\n",
    "\n",
    "# for transforming the numerical and categorical variables\n",
    "\n",
    "num_transformer = Pipeline(steps=[\n",
    "    ('scaler', StandardScaler())\n",
    "])\n",
    "\n",
    "cat_transformer = Pipeline(steps=[\n",
    "    ('ohe', OneHotEncoder(handle_unknown='ignore'))\n",
    "])\n",
    "preprocessor = ColumnTransformer(transformers=[\n",
    "    ('num', num_transformer, num_col),\n",
    "    ('cat', cat_transformer, cat_col)\n",
    "])\n",
    "classfier = Pipeline(steps=[\n",
    "    ('preprocessor', preprocessor),\n",
    "    ('logisticregression', LogisticRegression(random_state=42))\n",
    "])\n",
    "\n",
    "# cross validating the training data \n",
    "output = cross_validate(classfier, X_train, y_train, cv=6, scoring='accuracy')\n",
    "print(output['test_score'])"
   ]
  },
  {
   "cell_type": "markdown",
   "metadata": {},
   "source": [
    "### Modeling Iterations\n",
    "\n",
    "Now you can start to use the results of your first model to iterate - there are many options!"
   ]
  },
  {
   "cell_type": "code",
   "execution_count": 26,
   "metadata": {},
   "outputs": [],
   "source": [
    "# splitting the trainning data again to find the best possible model without using the test data\n",
    "X_trained, X_test, y_trained, y_test = train_test_split(X_train, y_train, test_size=0.33, random_state=42)"
   ]
  },
  {
   "cell_type": "markdown",
   "metadata": {},
   "source": [
    "In this section there were tens of model, that took hours to load "
   ]
  },
  {
   "cell_type": "markdown",
   "metadata": {},
   "source": [
    "### 'Final' Model\n",
    "\n",
    "In the end we arrived the random forest model with the best parameters.\n",
    "refer to other models inside the notebook."
   ]
  },
  {
   "cell_type": "code",
   "execution_count": 27,
   "metadata": {},
   "outputs": [
    {
     "data": {
      "text/plain": [
       "GridSearchCV(cv=5,\n",
       "             estimator=Pipeline(steps=[('preprocessor',\n",
       "                                        ColumnTransformer(transformers=[('num',\n",
       "                                                                         Pipeline(steps=[('scaler',\n",
       "                                                                                          StandardScaler())]),\n",
       "                                                                         ['age',\n",
       "                                                                          'balance',\n",
       "                                                                          'day',\n",
       "                                                                          'duration',\n",
       "                                                                          'campaign']),\n",
       "                                                                        ('cat',\n",
       "                                                                         Pipeline(steps=[('ohe',\n",
       "                                                                                          OneHotEncoder(handle_unknown='ignore'))]),\n",
       "                                                                         ['job',\n",
       "                                                                          'marital',\n",
       "                                                                          'education',\n",
       "                                                                          'housing',\n",
       "                                                                          'loan',\n",
       "                                                                          'contact',\n",
       "                                                                          'month',\n",
       "                                                                          'poutcome'])])),\n",
       "                                       ('rfc',\n",
       "                                        RandomForestClassifier(random_state=42))]),\n",
       "             param_grid={'rfc__max_depth': [20, 40, 50, 60],\n",
       "                         'rfc__n_estimators': [100, 200, 400]})"
      ]
     },
     "execution_count": 27,
     "metadata": {},
     "output_type": "execute_result"
    }
   ],
   "source": [
    "# code here to show your final model\n",
    "from sklearn.ensemble import RandomForestClassifier\n",
    "\n",
    "knn_model = Pipeline(steps=[\n",
    "    ('preprocessor', preprocessor),\n",
    "    ('rfc', RandomForestClassifier(random_state=42))\n",
    "])\n",
    "# grid searh to choose the best (combination of) hyperparameters\n",
    "params_forest_model ={'rfc__n_estimators': [100,200,400],'rfc__max_depth': [20,40,50,60]}\n",
    "\n",
    "gs_rand_forest=GridSearchCV(estimator= knn_model,\n",
    "               param_grid= params_forest_model,\n",
    "               cv=5)\n",
    "\n",
    "gs_rand_forest.fit(X_trained, y_trained)\n"
   ]
  },
  {
   "cell_type": "code",
   "execution_count": 30,
   "metadata": {},
   "outputs": [
    {
     "name": "stdout",
     "output_type": "stream",
     "text": [
      "Training Scores:\n",
      "Train Accuracy: 0.9669443830027772\n",
      "Train precision: 0.9302030456852792\n",
      "Train recall: 0.7740232312565998\n",
      "**********\n",
      "Hold Out Scores:\n",
      "Test Accuracy: 0.9013710747456878\n",
      "Test precision: 0.6812080536912751\n",
      "Test recall: 0.3664259927797834\n",
      "              precision    recall  f1-score   support\n",
      "\n",
      "           0       0.92      0.98      0.95      3968\n",
      "           1       0.68      0.37      0.48       554\n",
      "\n",
      "    accuracy                           0.90      4522\n",
      "   macro avg       0.80      0.67      0.71      4522\n",
      "weighted avg       0.89      0.90      0.89      4522\n",
      "\n"
     ]
    },
    {
     "data": {
      "image/png": "[encoded data removed]",
      "text/plain": [
       "<Figure size 432x288 with 2 Axes>"
      ]
     },
     "metadata": {
      "needs_background": "light"
     },
     "output_type": "display_data"
    }
   ],
   "source": [
    "# code here to evaluate your final model\n",
    "evaluate(gs_rand_forest.best_estimator_, X_train, X_hold, y_train, y_hold)"
   ]
  },
  {
   "cell_type": "markdown",
   "metadata": {},
   "source": [
    "## Conclusions"
   ]
  },
  {
   "cell_type": "markdown",
   "metadata": {},
   "source": [
    "\n",
    "#### What would you recommend the business do as a result of this work?"
   ]
  },
  {
   "cell_type": "markdown",
   "metadata": {},
   "source": [
    "We recommend to focus on the 3 W for the next campaign:\n",
    "\n",
    "* When: Duration-  Summer Months\n",
    "* Who: Education - Tertiary and Secondary \n",
    "        * Age (plan for retirement)\n",
    "* Where: Jobs - Management, Technician,  Self-employed\n"
   ]
  },
  {
   "cell_type": "markdown",
   "metadata": {},
   "source": [
    "#### How could the stakeholder use your model effectively?"
   ]
  },
  {
   "cell_type": "markdown",
   "metadata": {},
   "source": [
    "The manager could use the model for finding the features to improve on for the next campaign"
   ]
  },
  {
   "cell_type": "code",
   "execution_count": 31,
   "metadata": {},
   "outputs": [],
   "source": [
    "importances = gs_rand_forest.best_estimator_.named_steps['rfc'].feature_importances_\n",
    "# the transformed columns of numerical variables\n",
    "num_cols = gs_rand_forest.best_estimator_['preprocessor'].transformers_[0][2]\n",
    "# transformed columns in the encoded variable\n",
    "feature_name_importance = gs_rand_forest.best_estimator_['preprocessor'].transformers_[1][1]['ohe'].get_feature_names(cat_col)\n",
    "# creating a list of all the columns \n",
    "# note: * is for unpacking the lists\n",
    "final_cols = [*num_cols, *feature_name_importance]"
   ]
  },
  {
   "cell_type": "code",
   "execution_count": 36,
   "metadata": {},
   "outputs": [
    {
     "data": {
      "text/plain": [
       "<AxesSubplot:>"
      ]
     },
     "execution_count": 36,
     "metadata": {},
     "output_type": "execute_result"
    },
    {
     "data": {
      "image/png": "[encoded data removed]",
      "text/plain": [
       "<Figure size 864x1008 with 1 Axes>"
      ]
     },
     "metadata": {
      "needs_background": "light"
     },
     "output_type": "display_data"
    }
   ],
   "source": [
    "# putting together the one hot encoder columns and feature importance into a dataframe\n",
    "# called feature importance dataframe\n",
    "\n",
    "feature_impor_df = pd.DataFrame.from_dict(dict(zip(final_cols, importances)),\n",
    "                            orient='index').sort_values(by=0, ascending=False)\n",
    "# feature_impor_df[0]\n",
    "feature_impor_df.head().plot(kind='bar', figsize=(12,14))"
   ]
  },
  {
   "cell_type": "markdown",
   "metadata": {},
   "source": [
    "#### What are some reasons why your analysis might not fully solve the business problem?"
   ]
  },
  {
   "cell_type": "markdown",
   "metadata": {},
   "source": [
    "- This analysis does not account for changing technological advancement\n",
    "- More data features \n"
   ]
  },
  {
   "cell_type": "markdown",
   "metadata": {},
   "source": [
    "#### What else could you do in the future to improve this project (future work)?"
   ]
  },
  {
   "cell_type": "markdown",
   "metadata": {},
   "source": [
    "- We can improve in model optimization\n",
    "- questionnaire during the campaign"
   ]
  },
  {
   "cell_type": "code",
   "execution_count": null,
   "metadata": {},
   "outputs": [],
   "source": []
  }
 ],
 "metadata": {
  "kernelspec": {
   "display_name": "Python (learn-env)",
   "language": "python",
   "name": "learn-env"
  },
  "language_info": {
   "codemirror_mode": {
    "name": "ipython",
    "version": 3
   },
   "file_extension": ".py",
   "mimetype": "text/x-python",
   "name": "python",
   "nbconvert_exporter": "python",
   "pygments_lexer": "ipython3",
   "version": "3.8.5"
  }
 },
 "nbformat": 4,
 "nbformat_minor": 4
}
